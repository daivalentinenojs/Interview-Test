{
 "cells": [
  {
   "cell_type": "code",
   "execution_count": 1,
   "metadata": {},
   "outputs": [],
   "source": [
    "# Title           : Plus Two Sequence\n",
    "# Created By      : Daivalentineno Janitra Salim\n",
    "# Created In      : Taiwan\n",
    "# Created On      : 22th September 2020 24:00 (GMT+8)\n",
    "# Last Updated By : -\n",
    "# Last Updated In : -\n",
    "# Last Updated On : -"
   ]
  },
  {
   "cell_type": "code",
   "execution_count": 2,
   "metadata": {},
   "outputs": [],
   "source": [
    "class PlusTwoSequence:\n",
    "    def __init__(self, lens=0, start=0):\n",
    "        self.current = start\n",
    "        self.result = []\n",
    "        for i in range(8):\n",
    "            self.result.append(self.next())\n",
    "    def next(self):\n",
    "        current = self.current\n",
    "        self.current += 2\n",
    "        return current"
   ]
  },
  {
   "cell_type": "code",
   "execution_count": 3,
   "metadata": {},
   "outputs": [
    {
     "data": {
      "text/plain": [
       "[(0, 'a'),\n",
       " (2, 'c'),\n",
       " (4, 'e'),\n",
       " (6, 'g'),\n",
       " (8, 'i'),\n",
       " (10, 'k'),\n",
       " (12, 'm'),\n",
       " (14, 'o')]"
      ]
     },
     "execution_count": 3,
     "metadata": {},
     "output_type": "execute_result"
    }
   ],
   "source": [
    "string_value = \"acegikmo\"\n",
    "list(zip(PlusTwoSequence(lens=len(string_value)).result, string_value))"
   ]
  }
 ],
 "metadata": {
  "kernelspec": {
   "display_name": "Python 3",
   "language": "python",
   "name": "python3"
  },
  "language_info": {
   "codemirror_mode": {
    "name": "ipython",
    "version": 3
   },
   "file_extension": ".py",
   "mimetype": "text/x-python",
   "name": "python",
   "nbconvert_exporter": "python",
   "pygments_lexer": "ipython3",
   "version": "3.7.3"
  }
 },
 "nbformat": 4,
 "nbformat_minor": 2
}
