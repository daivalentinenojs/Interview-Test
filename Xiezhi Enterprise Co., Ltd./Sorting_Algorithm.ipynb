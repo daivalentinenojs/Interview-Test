{
 "cells": [
  {
   "cell_type": "code",
   "execution_count": 1,
   "metadata": {},
   "outputs": [],
   "source": [
    "# Title           : Sorting Algorithm\n",
    "# Created By      : Daivalentineno Janitra Salim\n",
    "# Created In      : Taiwan\n",
    "# Created On      : 22th September 2020 23:30 (GMT+8)\n",
    "# Last Updated By : -\n",
    "# Last Updated In : -\n",
    "# Last Updated On : -"
   ]
  },
  {
   "cell_type": "code",
   "execution_count": 2,
   "metadata": {},
   "outputs": [],
   "source": [
    "input_list = ['yolo-asff_100000.tib', 'yolo-asff_90000.tib', \\\n",
    "'yolo-asff_final.tib', 'yolo-asff_99000.tib', \\\n",
    "'yolo-asff_best.tib', 'yolo-asff_93000.tib']\n",
    "\n",
    "output_list = ['yolo-asff_90000.tib', 'yolo-asff_93000.tib', \\\n",
    "'yolo-asff_99000.tib', 'yolo-asff_100000.tib', \\\n",
    "'yolo-asff_final.tib', 'yolo-asff_best.tib']"
   ]
  },
  {
   "cell_type": "code",
   "execution_count": 3,
   "metadata": {},
   "outputs": [],
   "source": [
    "def myLenFunc(e):\n",
    "      return len(e)"
   ]
  },
  {
   "cell_type": "code",
   "execution_count": 4,
   "metadata": {},
   "outputs": [],
   "source": [
    "array_number = []\n",
    "array_string = []\n",
    "\n",
    "def myFunc(input_list):\n",
    "    for j in input_list:\n",
    "        code = j[10]\n",
    "        list_number = \"0123456789\"\n",
    "\n",
    "        if code in list_number:\n",
    "            array_number.append(j)\n",
    "        else:\n",
    "            array_string.append(j)\n",
    "        \n",
    "        array_number.sort()\n",
    "        array_number.sort(key=myLenFunc)\n",
    "        array_string.sort(reverse=True)\n",
    "\n",
    "    for i in range(len(array_string)):\n",
    "        array_number.append(array_string[i])\n",
    "    return array_number"
   ]
  },
  {
   "cell_type": "code",
   "execution_count": 5,
   "metadata": {},
   "outputs": [],
   "source": [
    "def sorting(input_list):\n",
    "    input_list = myFunc(input_list)\n",
    "    return input_list"
   ]
  },
  {
   "cell_type": "code",
   "execution_count": 6,
   "metadata": {},
   "outputs": [
    {
     "name": "stdout",
     "output_type": "stream",
     "text": [
      "['yolo-asff_90000.tib', 'yolo-asff_93000.tib', 'yolo-asff_99000.tib', 'yolo-asff_100000.tib', 'yolo-asff_final.tib', 'yolo-asff_best.tib']\n"
     ]
    }
   ],
   "source": [
    "print(sorting(input_list))"
   ]
  }
 ],
 "metadata": {
  "kernelspec": {
   "display_name": "Python 3",
   "language": "python",
   "name": "python3"
  },
  "language_info": {
   "codemirror_mode": {
    "name": "ipython",
    "version": 3
   },
   "file_extension": ".py",
   "mimetype": "text/x-python",
   "name": "python",
   "nbconvert_exporter": "python",
   "pygments_lexer": "ipython3",
   "version": "3.7.3"
  }
 },
 "nbformat": 4,
 "nbformat_minor": 2
}
